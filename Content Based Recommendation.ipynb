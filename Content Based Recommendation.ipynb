{
 "cells": [
  {
   "cell_type": "code",
   "execution_count": 1,
   "metadata": {},
   "outputs": [],
   "source": [
    "import pandas as pd\n",
    "import numpy as np\n",
    "from sklearn.feature_extraction.text import TfidfVectorizer\n",
    "from sklearn.metrics.pairwise import linear_kernel"
   ]
  },
  {
   "cell_type": "code",
   "execution_count": 2,
   "metadata": {},
   "outputs": [
    {
     "name": "stderr",
     "output_type": "stream",
     "text": [
      "C:\\Users\\alish\\Anaconda3\\lib\\site-packages\\IPython\\core\\interactiveshell.py:3057: DtypeWarning: Columns (11,21) have mixed types. Specify dtype option on import or set low_memory=False.\n",
      "  interactivity=interactivity, compiler=compiler, result=result)\n"
     ]
    }
   ],
   "source": [
    "data = pd.read_csv(\"merged_final_2.csv\")"
   ]
  },
  {
   "cell_type": "code",
   "execution_count": 3,
   "metadata": {},
   "outputs": [
    {
     "data": {
      "text/html": [
       "<div>\n",
       "<style scoped>\n",
       "    .dataframe tbody tr th:only-of-type {\n",
       "        vertical-align: middle;\n",
       "    }\n",
       "\n",
       "    .dataframe tbody tr th {\n",
       "        vertical-align: top;\n",
       "    }\n",
       "\n",
       "    .dataframe thead th {\n",
       "        text-align: right;\n",
       "    }\n",
       "</style>\n",
       "<table border=\"1\" class=\"dataframe\">\n",
       "  <thead>\n",
       "    <tr style=\"text-align: right;\">\n",
       "      <th></th>\n",
       "      <th>Unnamed: 0</th>\n",
       "      <th>book_id</th>\n",
       "      <th>date_added</th>\n",
       "      <th>date_updated</th>\n",
       "      <th>is_read</th>\n",
       "      <th>rating</th>\n",
       "      <th>read_at</th>\n",
       "      <th>review_id</th>\n",
       "      <th>review_text_incomplete</th>\n",
       "      <th>started_at</th>\n",
       "      <th>...</th>\n",
       "      <th>publication_year</th>\n",
       "      <th>publisher</th>\n",
       "      <th>ratings_count</th>\n",
       "      <th>series</th>\n",
       "      <th>similar_books</th>\n",
       "      <th>text_reviews_count</th>\n",
       "      <th>title</th>\n",
       "      <th>title_without_series</th>\n",
       "      <th>url</th>\n",
       "      <th>work_id</th>\n",
       "    </tr>\n",
       "  </thead>\n",
       "  <tbody>\n",
       "    <tr>\n",
       "      <th>0</th>\n",
       "      <td>0</td>\n",
       "      <td>24396144</td>\n",
       "      <td>Thu Dec 15 15:37:54 -0800 2016</td>\n",
       "      <td>Thu Dec 15 15:37:55 -0800 2016</td>\n",
       "      <td>False</td>\n",
       "      <td>0</td>\n",
       "      <td>NaN</td>\n",
       "      <td>d210e41fcc7e6dcd6ae896844a38a024</td>\n",
       "      <td>NaN</td>\n",
       "      <td>NaN</td>\n",
       "      <td>...</td>\n",
       "      <td>2015.0</td>\n",
       "      <td>Laurence King Publishing</td>\n",
       "      <td>57</td>\n",
       "      <td>[]</td>\n",
       "      <td>[]</td>\n",
       "      <td>20</td>\n",
       "      <td>Pierre the Maze Detective: The Search for the ...</td>\n",
       "      <td>Pierre the Maze Detective: The Search for the ...</td>\n",
       "      <td>https://www.goodreads.com/book/show/24396144-p...</td>\n",
       "      <td>43980643</td>\n",
       "    </tr>\n",
       "    <tr>\n",
       "      <th>1</th>\n",
       "      <td>1</td>\n",
       "      <td>24396144</td>\n",
       "      <td>Tue Apr 26 09:41:08 -0700 2016</td>\n",
       "      <td>Tue Apr 26 09:41:09 -0700 2016</td>\n",
       "      <td>False</td>\n",
       "      <td>0</td>\n",
       "      <td>NaN</td>\n",
       "      <td>fc16284cbd90e9a061ee64a93b2991c2</td>\n",
       "      <td>NaN</td>\n",
       "      <td>NaN</td>\n",
       "      <td>...</td>\n",
       "      <td>2015.0</td>\n",
       "      <td>Laurence King Publishing</td>\n",
       "      <td>57</td>\n",
       "      <td>[]</td>\n",
       "      <td>[]</td>\n",
       "      <td>20</td>\n",
       "      <td>Pierre the Maze Detective: The Search for the ...</td>\n",
       "      <td>Pierre the Maze Detective: The Search for the ...</td>\n",
       "      <td>https://www.goodreads.com/book/show/24396144-p...</td>\n",
       "      <td>43980643</td>\n",
       "    </tr>\n",
       "    <tr>\n",
       "      <th>2</th>\n",
       "      <td>2</td>\n",
       "      <td>24396144</td>\n",
       "      <td>Wed Nov 30 23:29:41 -0800 2016</td>\n",
       "      <td>Wed Nov 30 23:29:42 -0800 2016</td>\n",
       "      <td>False</td>\n",
       "      <td>0</td>\n",
       "      <td>NaN</td>\n",
       "      <td>e00cbe71f37520d59f71201e2bcf7328</td>\n",
       "      <td>NaN</td>\n",
       "      <td>NaN</td>\n",
       "      <td>...</td>\n",
       "      <td>2015.0</td>\n",
       "      <td>Laurence King Publishing</td>\n",
       "      <td>57</td>\n",
       "      <td>[]</td>\n",
       "      <td>[]</td>\n",
       "      <td>20</td>\n",
       "      <td>Pierre the Maze Detective: The Search for the ...</td>\n",
       "      <td>Pierre the Maze Detective: The Search for the ...</td>\n",
       "      <td>https://www.goodreads.com/book/show/24396144-p...</td>\n",
       "      <td>43980643</td>\n",
       "    </tr>\n",
       "    <tr>\n",
       "      <th>3</th>\n",
       "      <td>3</td>\n",
       "      <td>24396144</td>\n",
       "      <td>Wed Nov 18 07:12:11 -0800 2015</td>\n",
       "      <td>Wed Nov 18 07:12:15 -0800 2015</td>\n",
       "      <td>False</td>\n",
       "      <td>0</td>\n",
       "      <td>NaN</td>\n",
       "      <td>23ef4cc13bb162e8dad5ca75e4a30ea4</td>\n",
       "      <td>NaN</td>\n",
       "      <td>NaN</td>\n",
       "      <td>...</td>\n",
       "      <td>2015.0</td>\n",
       "      <td>Laurence King Publishing</td>\n",
       "      <td>57</td>\n",
       "      <td>[]</td>\n",
       "      <td>[]</td>\n",
       "      <td>20</td>\n",
       "      <td>Pierre the Maze Detective: The Search for the ...</td>\n",
       "      <td>Pierre the Maze Detective: The Search for the ...</td>\n",
       "      <td>https://www.goodreads.com/book/show/24396144-p...</td>\n",
       "      <td>43980643</td>\n",
       "    </tr>\n",
       "    <tr>\n",
       "      <th>4</th>\n",
       "      <td>4</td>\n",
       "      <td>23310161</td>\n",
       "      <td>Tue Nov 17 11:37:35 -0800 2015</td>\n",
       "      <td>Tue Nov 17 11:38:05 -0800 2015</td>\n",
       "      <td>True</td>\n",
       "      <td>4</td>\n",
       "      <td>NaN</td>\n",
       "      <td>f4b4b050f4be00e9283c92a814af2670</td>\n",
       "      <td>Fun sequel to the original.</td>\n",
       "      <td>NaN</td>\n",
       "      <td>...</td>\n",
       "      <td>2015.0</td>\n",
       "      <td>Philomel Books</td>\n",
       "      <td>8924</td>\n",
       "      <td>['751058']</td>\n",
       "      <td>['22249668', '25745002', '23309640', '23735067...</td>\n",
       "      <td>1231</td>\n",
       "      <td>The Day the Crayons Came Home</td>\n",
       "      <td>The Day the Crayons Came Home</td>\n",
       "      <td>https://www.goodreads.com/book/show/23310161-t...</td>\n",
       "      <td>42864407</td>\n",
       "    </tr>\n",
       "  </tbody>\n",
       "</table>\n",
       "<p>5 rows × 39 columns</p>\n",
       "</div>"
      ],
      "text/plain": [
       "   Unnamed: 0   book_id                      date_added  \\\n",
       "0           0  24396144  Thu Dec 15 15:37:54 -0800 2016   \n",
       "1           1  24396144  Tue Apr 26 09:41:08 -0700 2016   \n",
       "2           2  24396144  Wed Nov 30 23:29:41 -0800 2016   \n",
       "3           3  24396144  Wed Nov 18 07:12:11 -0800 2015   \n",
       "4           4  23310161  Tue Nov 17 11:37:35 -0800 2015   \n",
       "\n",
       "                     date_updated  is_read  rating read_at  \\\n",
       "0  Thu Dec 15 15:37:55 -0800 2016    False       0     NaN   \n",
       "1  Tue Apr 26 09:41:09 -0700 2016    False       0     NaN   \n",
       "2  Wed Nov 30 23:29:42 -0800 2016    False       0     NaN   \n",
       "3  Wed Nov 18 07:12:15 -0800 2015    False       0     NaN   \n",
       "4  Tue Nov 17 11:38:05 -0800 2015     True       4     NaN   \n",
       "\n",
       "                          review_id       review_text_incomplete started_at  \\\n",
       "0  d210e41fcc7e6dcd6ae896844a38a024                          NaN        NaN   \n",
       "1  fc16284cbd90e9a061ee64a93b2991c2                          NaN        NaN   \n",
       "2  e00cbe71f37520d59f71201e2bcf7328                          NaN        NaN   \n",
       "3  23ef4cc13bb162e8dad5ca75e4a30ea4                          NaN        NaN   \n",
       "4  f4b4b050f4be00e9283c92a814af2670  Fun sequel to the original.        NaN   \n",
       "\n",
       "   ... publication_year                 publisher ratings_count      series  \\\n",
       "0  ...           2015.0  Laurence King Publishing            57          []   \n",
       "1  ...           2015.0  Laurence King Publishing            57          []   \n",
       "2  ...           2015.0  Laurence King Publishing            57          []   \n",
       "3  ...           2015.0  Laurence King Publishing            57          []   \n",
       "4  ...           2015.0            Philomel Books          8924  ['751058']   \n",
       "\n",
       "                                       similar_books text_reviews_count  \\\n",
       "0                                                 []                 20   \n",
       "1                                                 []                 20   \n",
       "2                                                 []                 20   \n",
       "3                                                 []                 20   \n",
       "4  ['22249668', '25745002', '23309640', '23735067...               1231   \n",
       "\n",
       "                                               title  \\\n",
       "0  Pierre the Maze Detective: The Search for the ...   \n",
       "1  Pierre the Maze Detective: The Search for the ...   \n",
       "2  Pierre the Maze Detective: The Search for the ...   \n",
       "3  Pierre the Maze Detective: The Search for the ...   \n",
       "4                      The Day the Crayons Came Home   \n",
       "\n",
       "                                title_without_series  \\\n",
       "0  Pierre the Maze Detective: The Search for the ...   \n",
       "1  Pierre the Maze Detective: The Search for the ...   \n",
       "2  Pierre the Maze Detective: The Search for the ...   \n",
       "3  Pierre the Maze Detective: The Search for the ...   \n",
       "4                      The Day the Crayons Came Home   \n",
       "\n",
       "                                                 url   work_id  \n",
       "0  https://www.goodreads.com/book/show/24396144-p...  43980643  \n",
       "1  https://www.goodreads.com/book/show/24396144-p...  43980643  \n",
       "2  https://www.goodreads.com/book/show/24396144-p...  43980643  \n",
       "3  https://www.goodreads.com/book/show/24396144-p...  43980643  \n",
       "4  https://www.goodreads.com/book/show/23310161-t...  42864407  \n",
       "\n",
       "[5 rows x 39 columns]"
      ]
     },
     "execution_count": 3,
     "metadata": {},
     "output_type": "execute_result"
    }
   ],
   "source": [
    "data.head()"
   ]
  },
  {
   "cell_type": "code",
   "execution_count": 4,
   "metadata": {},
   "outputs": [
    {
     "data": {
      "text/plain": [
       "Index(['Unnamed: 0', 'book_id', 'date_added', 'date_updated', 'is_read',\n",
       "       'rating', 'read_at', 'review_id', 'review_text_incomplete',\n",
       "       'started_at', 'user_id', 'asin', 'authors', 'average_rating',\n",
       "       'country_code', 'description', 'edition_information', 'format',\n",
       "       'image_url', 'is_ebook', 'isbn', 'isbn13', 'kindle_asin',\n",
       "       'language_code', 'link', 'num_pages', 'popular_shelves',\n",
       "       'publication_day', 'publication_month', 'publication_year', 'publisher',\n",
       "       'ratings_count', 'series', 'similar_books', 'text_reviews_count',\n",
       "       'title', 'title_without_series', 'url', 'work_id'],\n",
       "      dtype='object')"
      ]
     },
     "execution_count": 4,
     "metadata": {},
     "output_type": "execute_result"
    }
   ],
   "source": [
    "data.columns"
   ]
  },
  {
   "cell_type": "code",
   "execution_count": 61,
   "metadata": {},
   "outputs": [],
   "source": [
    "ds = data[['user_id','rating', 'book_id', 'title', 'read_at', 'description']]"
   ]
  },
  {
   "cell_type": "code",
   "execution_count": 62,
   "metadata": {
    "scrolled": true
   },
   "outputs": [
    {
     "data": {
      "text/html": [
       "<div>\n",
       "<style scoped>\n",
       "    .dataframe tbody tr th:only-of-type {\n",
       "        vertical-align: middle;\n",
       "    }\n",
       "\n",
       "    .dataframe tbody tr th {\n",
       "        vertical-align: top;\n",
       "    }\n",
       "\n",
       "    .dataframe thead th {\n",
       "        text-align: right;\n",
       "    }\n",
       "</style>\n",
       "<table border=\"1\" class=\"dataframe\">\n",
       "  <thead>\n",
       "    <tr style=\"text-align: right;\">\n",
       "      <th></th>\n",
       "      <th>book_id</th>\n",
       "      <th>rating_x</th>\n",
       "      <th>user_id</th>\n",
       "      <th>rating_y</th>\n",
       "      <th>title</th>\n",
       "      <th>read_at</th>\n",
       "      <th>description</th>\n",
       "    </tr>\n",
       "  </thead>\n",
       "  <tbody>\n",
       "    <tr>\n",
       "      <th>0</th>\n",
       "      <td>103</td>\n",
       "      <td>14</td>\n",
       "      <td>8842281e1d1347389f2ab93d60773d4d</td>\n",
       "      <td>4</td>\n",
       "      <td>God Emperor of Dune (Dune Chronicles, #4)</td>\n",
       "      <td>NaN</td>\n",
       "      <td>Centuries have passed on Dune, and the planet ...</td>\n",
       "    </tr>\n",
       "    <tr>\n",
       "      <th>1</th>\n",
       "      <td>103</td>\n",
       "      <td>14</td>\n",
       "      <td>9a88311cb8f79be7a0a84dba2157534e</td>\n",
       "      <td>0</td>\n",
       "      <td>God Emperor of Dune (Dune Chronicles, #4)</td>\n",
       "      <td>NaN</td>\n",
       "      <td>Centuries have passed on Dune, and the planet ...</td>\n",
       "    </tr>\n",
       "    <tr>\n",
       "      <th>2</th>\n",
       "      <td>103</td>\n",
       "      <td>14</td>\n",
       "      <td>653a89a7bb5a9fe1716e01d879d423c9</td>\n",
       "      <td>3</td>\n",
       "      <td>God Emperor of Dune (Dune Chronicles, #4)</td>\n",
       "      <td>Fri Aug 17 14:17:30 -0700 2012</td>\n",
       "      <td>Centuries have passed on Dune, and the planet ...</td>\n",
       "    </tr>\n",
       "    <tr>\n",
       "      <th>3</th>\n",
       "      <td>103</td>\n",
       "      <td>14</td>\n",
       "      <td>5a3f081f27a0004518b6544074545018</td>\n",
       "      <td>4</td>\n",
       "      <td>God Emperor of Dune (Dune Chronicles, #4)</td>\n",
       "      <td>NaN</td>\n",
       "      <td>Centuries have passed on Dune, and the planet ...</td>\n",
       "    </tr>\n",
       "    <tr>\n",
       "      <th>4</th>\n",
       "      <td>103</td>\n",
       "      <td>14</td>\n",
       "      <td>14ea78d43c0a440cd2de9f3fdaa3daf6</td>\n",
       "      <td>0</td>\n",
       "      <td>God Emperor of Dune (Dune Chronicles, #4)</td>\n",
       "      <td>NaN</td>\n",
       "      <td>Centuries have passed on Dune, and the planet ...</td>\n",
       "    </tr>\n",
       "  </tbody>\n",
       "</table>\n",
       "</div>"
      ],
      "text/plain": [
       "   book_id  rating_x                           user_id  rating_y  \\\n",
       "0      103        14  8842281e1d1347389f2ab93d60773d4d         4   \n",
       "1      103        14  9a88311cb8f79be7a0a84dba2157534e         0   \n",
       "2      103        14  653a89a7bb5a9fe1716e01d879d423c9         3   \n",
       "3      103        14  5a3f081f27a0004518b6544074545018         4   \n",
       "4      103        14  14ea78d43c0a440cd2de9f3fdaa3daf6         0   \n",
       "\n",
       "                                       title                         read_at  \\\n",
       "0  God Emperor of Dune (Dune Chronicles, #4)                             NaN   \n",
       "1  God Emperor of Dune (Dune Chronicles, #4)                             NaN   \n",
       "2  God Emperor of Dune (Dune Chronicles, #4)  Fri Aug 17 14:17:30 -0700 2012   \n",
       "3  God Emperor of Dune (Dune Chronicles, #4)                             NaN   \n",
       "4  God Emperor of Dune (Dune Chronicles, #4)                             NaN   \n",
       "\n",
       "                                         description  \n",
       "0  Centuries have passed on Dune, and the planet ...  \n",
       "1  Centuries have passed on Dune, and the planet ...  \n",
       "2  Centuries have passed on Dune, and the planet ...  \n",
       "3  Centuries have passed on Dune, and the planet ...  \n",
       "4  Centuries have passed on Dune, and the planet ...  "
      ]
     },
     "execution_count": 62,
     "metadata": {},
     "output_type": "execute_result"
    }
   ],
   "source": [
    "# Select only those users having more than 20 \n",
    "num = pd.DataFrame(ds.groupby('book_id')['rating'].count())\n",
    "num = num[num['rating']>=10]\n",
    "num.reset_index()\n",
    "\n",
    "df2 = pd.merge(num,ds,on='book_id').drop_duplicates()\n",
    "df2.head()"
   ]
  },
  {
   "cell_type": "code",
   "execution_count": 63,
   "metadata": {},
   "outputs": [
    {
     "data": {
      "text/html": [
       "<div>\n",
       "<style scoped>\n",
       "    .dataframe tbody tr th:only-of-type {\n",
       "        vertical-align: middle;\n",
       "    }\n",
       "\n",
       "    .dataframe tbody tr th {\n",
       "        vertical-align: top;\n",
       "    }\n",
       "\n",
       "    .dataframe thead th {\n",
       "        text-align: right;\n",
       "    }\n",
       "</style>\n",
       "<table border=\"1\" class=\"dataframe\">\n",
       "  <thead>\n",
       "    <tr style=\"text-align: right;\">\n",
       "      <th></th>\n",
       "      <th>book_id</th>\n",
       "      <th>rating_x</th>\n",
       "      <th>user_id</th>\n",
       "      <th>rating</th>\n",
       "      <th>title</th>\n",
       "      <th>read_at</th>\n",
       "      <th>description</th>\n",
       "    </tr>\n",
       "  </thead>\n",
       "  <tbody>\n",
       "    <tr>\n",
       "      <th>0</th>\n",
       "      <td>103</td>\n",
       "      <td>14</td>\n",
       "      <td>8842281e1d1347389f2ab93d60773d4d</td>\n",
       "      <td>4</td>\n",
       "      <td>God Emperor of Dune (Dune Chronicles, #4)</td>\n",
       "      <td>NaN</td>\n",
       "      <td>Centuries have passed on Dune, and the planet ...</td>\n",
       "    </tr>\n",
       "    <tr>\n",
       "      <th>1</th>\n",
       "      <td>103</td>\n",
       "      <td>14</td>\n",
       "      <td>9a88311cb8f79be7a0a84dba2157534e</td>\n",
       "      <td>0</td>\n",
       "      <td>God Emperor of Dune (Dune Chronicles, #4)</td>\n",
       "      <td>NaN</td>\n",
       "      <td>Centuries have passed on Dune, and the planet ...</td>\n",
       "    </tr>\n",
       "    <tr>\n",
       "      <th>2</th>\n",
       "      <td>103</td>\n",
       "      <td>14</td>\n",
       "      <td>653a89a7bb5a9fe1716e01d879d423c9</td>\n",
       "      <td>3</td>\n",
       "      <td>God Emperor of Dune (Dune Chronicles, #4)</td>\n",
       "      <td>Fri Aug 17 14:17:30 -0700 2012</td>\n",
       "      <td>Centuries have passed on Dune, and the planet ...</td>\n",
       "    </tr>\n",
       "    <tr>\n",
       "      <th>3</th>\n",
       "      <td>103</td>\n",
       "      <td>14</td>\n",
       "      <td>5a3f081f27a0004518b6544074545018</td>\n",
       "      <td>4</td>\n",
       "      <td>God Emperor of Dune (Dune Chronicles, #4)</td>\n",
       "      <td>NaN</td>\n",
       "      <td>Centuries have passed on Dune, and the planet ...</td>\n",
       "    </tr>\n",
       "    <tr>\n",
       "      <th>4</th>\n",
       "      <td>103</td>\n",
       "      <td>14</td>\n",
       "      <td>14ea78d43c0a440cd2de9f3fdaa3daf6</td>\n",
       "      <td>0</td>\n",
       "      <td>God Emperor of Dune (Dune Chronicles, #4)</td>\n",
       "      <td>NaN</td>\n",
       "      <td>Centuries have passed on Dune, and the planet ...</td>\n",
       "    </tr>\n",
       "  </tbody>\n",
       "</table>\n",
       "</div>"
      ],
      "text/plain": [
       "   book_id  rating_x                           user_id  rating  \\\n",
       "0      103        14  8842281e1d1347389f2ab93d60773d4d       4   \n",
       "1      103        14  9a88311cb8f79be7a0a84dba2157534e       0   \n",
       "2      103        14  653a89a7bb5a9fe1716e01d879d423c9       3   \n",
       "3      103        14  5a3f081f27a0004518b6544074545018       4   \n",
       "4      103        14  14ea78d43c0a440cd2de9f3fdaa3daf6       0   \n",
       "\n",
       "                                       title                         read_at  \\\n",
       "0  God Emperor of Dune (Dune Chronicles, #4)                             NaN   \n",
       "1  God Emperor of Dune (Dune Chronicles, #4)                             NaN   \n",
       "2  God Emperor of Dune (Dune Chronicles, #4)  Fri Aug 17 14:17:30 -0700 2012   \n",
       "3  God Emperor of Dune (Dune Chronicles, #4)                             NaN   \n",
       "4  God Emperor of Dune (Dune Chronicles, #4)                             NaN   \n",
       "\n",
       "                                         description  \n",
       "0  Centuries have passed on Dune, and the planet ...  \n",
       "1  Centuries have passed on Dune, and the planet ...  \n",
       "2  Centuries have passed on Dune, and the planet ...  \n",
       "3  Centuries have passed on Dune, and the planet ...  \n",
       "4  Centuries have passed on Dune, and the planet ...  "
      ]
     },
     "execution_count": 63,
     "metadata": {},
     "output_type": "execute_result"
    }
   ],
   "source": [
    "ds = df2.rename(columns={\"rating_y\": \"rating\"})\n",
    "ds.head()"
   ]
  },
  {
   "cell_type": "code",
   "execution_count": 64,
   "metadata": {},
   "outputs": [],
   "source": [
    "ds = ds.dropna(subset = ['read_at','description']).reset_index()"
   ]
  },
  {
   "cell_type": "code",
   "execution_count": 65,
   "metadata": {},
   "outputs": [],
   "source": [
    "ds = ds[['book_id', 'title', 'description']].drop_duplicates().reset_index()"
   ]
  },
  {
   "cell_type": "code",
   "execution_count": 67,
   "metadata": {},
   "outputs": [],
   "source": [
    "ds.to_csv('dedup_bookid.csv')"
   ]
  },
  {
   "cell_type": "code",
   "execution_count": 68,
   "metadata": {
    "scrolled": true
   },
   "outputs": [
    {
     "data": {
      "text/plain": [
       "(11966, 4)"
      ]
     },
     "execution_count": 68,
     "metadata": {},
     "output_type": "execute_result"
    }
   ],
   "source": [
    "ds.shape"
   ]
  },
  {
   "cell_type": "code",
   "execution_count": 69,
   "metadata": {},
   "outputs": [
    {
     "data": {
      "text/html": [
       "<div>\n",
       "<style scoped>\n",
       "    .dataframe tbody tr th:only-of-type {\n",
       "        vertical-align: middle;\n",
       "    }\n",
       "\n",
       "    .dataframe tbody tr th {\n",
       "        vertical-align: top;\n",
       "    }\n",
       "\n",
       "    .dataframe thead th {\n",
       "        text-align: right;\n",
       "    }\n",
       "</style>\n",
       "<table border=\"1\" class=\"dataframe\">\n",
       "  <thead>\n",
       "    <tr style=\"text-align: right;\">\n",
       "      <th></th>\n",
       "      <th>index</th>\n",
       "      <th>book_id</th>\n",
       "      <th>title</th>\n",
       "      <th>description</th>\n",
       "    </tr>\n",
       "  </thead>\n",
       "  <tbody>\n",
       "    <tr>\n",
       "      <th>0</th>\n",
       "      <td>0</td>\n",
       "      <td>103</td>\n",
       "      <td>God Emperor of Dune (Dune Chronicles, #4)</td>\n",
       "      <td>Centuries have passed on Dune, and the planet ...</td>\n",
       "    </tr>\n",
       "    <tr>\n",
       "      <th>1</th>\n",
       "      <td>1</td>\n",
       "      <td>106</td>\n",
       "      <td>Dune Messiah (Dune Chronicles #2)</td>\n",
       "      <td>Dune Messiahcontinues the story of the man Mua...</td>\n",
       "    </tr>\n",
       "    <tr>\n",
       "      <th>2</th>\n",
       "      <td>25</td>\n",
       "      <td>234</td>\n",
       "      <td>The Complete Verse and Other Nonsense</td>\n",
       "      <td>This collection demonstrates the varied ways i...</td>\n",
       "    </tr>\n",
       "    <tr>\n",
       "      <th>3</th>\n",
       "      <td>26</td>\n",
       "      <td>236</td>\n",
       "      <td>The Complete Nonsense of Edward Lear</td>\n",
       "      <td>The Owl and the Pussy-Cat, Calico Pie and The ...</td>\n",
       "    </tr>\n",
       "    <tr>\n",
       "      <th>4</th>\n",
       "      <td>30</td>\n",
       "      <td>355</td>\n",
       "      <td>Job: A Comedy of Justice</td>\n",
       "      <td>After he firewalked in Polynesia, the world wa...</td>\n",
       "    </tr>\n",
       "  </tbody>\n",
       "</table>\n",
       "</div>"
      ],
      "text/plain": [
       "   index  book_id                                      title  \\\n",
       "0      0      103  God Emperor of Dune (Dune Chronicles, #4)   \n",
       "1      1      106          Dune Messiah (Dune Chronicles #2)   \n",
       "2     25      234      The Complete Verse and Other Nonsense   \n",
       "3     26      236       The Complete Nonsense of Edward Lear   \n",
       "4     30      355                   Job: A Comedy of Justice   \n",
       "\n",
       "                                         description  \n",
       "0  Centuries have passed on Dune, and the planet ...  \n",
       "1  Dune Messiahcontinues the story of the man Mua...  \n",
       "2  This collection demonstrates the varied ways i...  \n",
       "3  The Owl and the Pussy-Cat, Calico Pie and The ...  \n",
       "4  After he firewalked in Polynesia, the world wa...  "
      ]
     },
     "execution_count": 69,
     "metadata": {},
     "output_type": "execute_result"
    }
   ],
   "source": [
    "ds.head()"
   ]
  },
  {
   "cell_type": "code",
   "execution_count": 70,
   "metadata": {},
   "outputs": [],
   "source": [
    "tf = TfidfVectorizer(analyzer='word', ngram_range=(1, 2), min_df=0, stop_words='english')\n",
    "tfidf_matrix = tf.fit_transform(ds['description'])"
   ]
  },
  {
   "cell_type": "code",
   "execution_count": null,
   "metadata": {},
   "outputs": [],
   "source": []
  },
  {
   "cell_type": "code",
   "execution_count": 73,
   "metadata": {},
   "outputs": [],
   "source": [
    "cosine_similarities = linear_kernel(tfidf_matrix, tfidf_matrix)\n",
    "#cosine_similarities = linear_kernel(W, W)"
   ]
  },
  {
   "cell_type": "code",
   "execution_count": 75,
   "metadata": {},
   "outputs": [
    {
     "name": "stdout",
     "output_type": "stream",
     "text": [
      "done!\n"
     ]
    }
   ],
   "source": [
    "results = {}\n",
    "\n",
    "for idx, row in ds.iterrows():\n",
    "    similar_indices = cosine_similarities[idx].argsort()[:-100:-1]\n",
    "    similar_items = [(cosine_similarities[idx][i], ds['book_id'][i]) for i in similar_indices]\n",
    "\n",
    "    results[row['book_id']] = similar_items[1:]\n",
    "    \n",
    "print('done!')\n",
    "#print (results)"
   ]
  },
  {
   "cell_type": "code",
   "execution_count": 76,
   "metadata": {},
   "outputs": [],
   "source": [
    "def item(id):\n",
    "    #return ds.loc[ds['user_id'] == id]['description'].tolist()[0].split(' - ')[0]\n",
    "    return ds.loc[ds['book_id'] == id]['title'].tolist()[0].split(' - ')[0]"
   ]
  },
  {
   "cell_type": "code",
   "execution_count": 78,
   "metadata": {},
   "outputs": [],
   "source": [
    "# Just reads the results out of the dictionary.\n",
    "def recommend(item_id, num):\n",
    "    print(\"Recommending products similar to \" + item(item_id) + \"...\")\n",
    "    print(\"-------\")\n",
    "    recs = results[item_id][:num]\n",
    "    reccos = pd.DataFrame(columns=['title'])\n",
    "    for rec in recs:\n",
    "        reccos = reccos.append({'title':item(rec[1])},ignore_index=True)\n",
    "        reccos = reccos.drop_duplicates()\n",
    "#        reccos = reccos[1:]\n",
    "    return reccos\n",
    "\n"
   ]
  },
  {
   "cell_type": "code",
   "execution_count": 79,
   "metadata": {},
   "outputs": [
    {
     "name": "stdout",
     "output_type": "stream",
     "text": [
      "Recommending products similar to The Day the Crayons Came Home...\n",
      "-------\n"
     ]
    },
    {
     "data": {
      "text/html": [
       "<div>\n",
       "<style scoped>\n",
       "    .dataframe tbody tr th:only-of-type {\n",
       "        vertical-align: middle;\n",
       "    }\n",
       "\n",
       "    .dataframe tbody tr th {\n",
       "        vertical-align: top;\n",
       "    }\n",
       "\n",
       "    .dataframe thead th {\n",
       "        text-align: right;\n",
       "    }\n",
       "</style>\n",
       "<table border=\"1\" class=\"dataframe\">\n",
       "  <thead>\n",
       "    <tr style=\"text-align: right;\">\n",
       "      <th></th>\n",
       "      <th>title</th>\n",
       "    </tr>\n",
       "  </thead>\n",
       "  <tbody>\n",
       "    <tr>\n",
       "      <th>0</th>\n",
       "      <td>Once Upon an Alphabet: Short Stories for All t...</td>\n",
       "    </tr>\n",
       "    <tr>\n",
       "      <th>1</th>\n",
       "      <td>Stuck</td>\n",
       "    </tr>\n",
       "    <tr>\n",
       "      <th>2</th>\n",
       "      <td>Rocket Writes a Story</td>\n",
       "    </tr>\n",
       "    <tr>\n",
       "      <th>3</th>\n",
       "      <td>Lost and Found (The Boy, #2)</td>\n",
       "    </tr>\n",
       "    <tr>\n",
       "      <th>4</th>\n",
       "      <td>Fog Island</td>\n",
       "    </tr>\n",
       "  </tbody>\n",
       "</table>\n",
       "</div>"
      ],
      "text/plain": [
       "                                               title\n",
       "0  Once Upon an Alphabet: Short Stories for All t...\n",
       "1                                              Stuck\n",
       "2                              Rocket Writes a Story\n",
       "3                       Lost and Found (The Boy, #2)\n",
       "4                                         Fog Island"
      ]
     },
     "execution_count": 79,
     "metadata": {},
     "output_type": "execute_result"
    }
   ],
   "source": [
    "recommend(item_id=23310161, num=5)\n",
    "#item('d1e368a7d2870eb6fbf6e0d350568a2d')"
   ]
  },
  {
   "cell_type": "code",
   "execution_count": 80,
   "metadata": {},
   "outputs": [
    {
     "name": "stdout",
     "output_type": "stream",
     "text": [
      "Recommending products similar to Harry Potter and the Chamber of Secrets (Harry Potter, #2)...\n",
      "-------\n"
     ]
    },
    {
     "data": {
      "text/html": [
       "<div>\n",
       "<style scoped>\n",
       "    .dataframe tbody tr th:only-of-type {\n",
       "        vertical-align: middle;\n",
       "    }\n",
       "\n",
       "    .dataframe tbody tr th {\n",
       "        vertical-align: top;\n",
       "    }\n",
       "\n",
       "    .dataframe thead th {\n",
       "        text-align: right;\n",
       "    }\n",
       "</style>\n",
       "<table border=\"1\" class=\"dataframe\">\n",
       "  <thead>\n",
       "    <tr style=\"text-align: right;\">\n",
       "      <th></th>\n",
       "      <th>title</th>\n",
       "    </tr>\n",
       "  </thead>\n",
       "  <tbody>\n",
       "    <tr>\n",
       "      <th>0</th>\n",
       "      <td>Harry Potter and the Sorcerer's Stone (Harry P...</td>\n",
       "    </tr>\n",
       "    <tr>\n",
       "      <th>1</th>\n",
       "      <td>Harry Potter and the Philosopher's Stone</td>\n",
       "    </tr>\n",
       "    <tr>\n",
       "      <th>2</th>\n",
       "      <td>Harry Potter and the Deathly Hallows (Harry Po...</td>\n",
       "    </tr>\n",
       "    <tr>\n",
       "      <th>3</th>\n",
       "      <td>Here at Hogwarts</td>\n",
       "    </tr>\n",
       "    <tr>\n",
       "      <th>4</th>\n",
       "      <td>Harry Potter and the Philosopher's Stone (Harr...</td>\n",
       "    </tr>\n",
       "  </tbody>\n",
       "</table>\n",
       "</div>"
      ],
      "text/plain": [
       "                                               title\n",
       "0  Harry Potter and the Sorcerer's Stone (Harry P...\n",
       "1           Harry Potter and the Philosopher's Stone\n",
       "2  Harry Potter and the Deathly Hallows (Harry Po...\n",
       "3                                   Here at Hogwarts\n",
       "4  Harry Potter and the Philosopher's Stone (Harr..."
      ]
     },
     "execution_count": 80,
     "metadata": {},
     "output_type": "execute_result"
    }
   ],
   "source": [
    "recommend(item_id=29241319, num=5)"
   ]
  },
  {
   "cell_type": "code",
   "execution_count": 82,
   "metadata": {},
   "outputs": [
    {
     "name": "stdout",
     "output_type": "stream",
     "text": [
      "Recommending products similar to Mockingjay (The Hunger Games, #3)...\n",
      "-------\n"
     ]
    },
    {
     "data": {
      "text/html": [
       "<div>\n",
       "<style scoped>\n",
       "    .dataframe tbody tr th:only-of-type {\n",
       "        vertical-align: middle;\n",
       "    }\n",
       "\n",
       "    .dataframe tbody tr th {\n",
       "        vertical-align: top;\n",
       "    }\n",
       "\n",
       "    .dataframe thead th {\n",
       "        text-align: right;\n",
       "    }\n",
       "</style>\n",
       "<table border=\"1\" class=\"dataframe\">\n",
       "  <thead>\n",
       "    <tr style=\"text-align: right;\">\n",
       "      <th></th>\n",
       "      <th>title</th>\n",
       "    </tr>\n",
       "  </thead>\n",
       "  <tbody>\n",
       "    <tr>\n",
       "      <th>0</th>\n",
       "      <td>Mockingjay (The Hunger Games, #3)</td>\n",
       "    </tr>\n",
       "    <tr>\n",
       "      <th>1</th>\n",
       "      <td>Executive Orders (Jack Ryan Universe, #9)</td>\n",
       "    </tr>\n",
       "    <tr>\n",
       "      <th>2</th>\n",
       "      <td>Captives (Safe Lands, #1)</td>\n",
       "    </tr>\n",
       "    <tr>\n",
       "      <th>3</th>\n",
       "      <td>A Child's Calendar</td>\n",
       "    </tr>\n",
       "    <tr>\n",
       "      <th>4</th>\n",
       "      <td>Deep Down (Jack Reacher, #16.5)</td>\n",
       "    </tr>\n",
       "  </tbody>\n",
       "</table>\n",
       "</div>"
      ],
      "text/plain": [
       "                                       title\n",
       "0          Mockingjay (The Hunger Games, #3)\n",
       "1  Executive Orders (Jack Ryan Universe, #9)\n",
       "2                  Captives (Safe Lands, #1)\n",
       "3                         A Child's Calendar\n",
       "4            Deep Down (Jack Reacher, #16.5)"
      ]
     },
     "execution_count": 82,
     "metadata": {},
     "output_type": "execute_result"
    }
   ],
   "source": [
    "recommend(item_id=8663600, num=5)"
   ]
  },
  {
   "cell_type": "code",
   "execution_count": 94,
   "metadata": {},
   "outputs": [
    {
     "name": "stdout",
     "output_type": "stream",
     "text": [
      "Recommending products similar to Wuthering Heights...\n",
      "-------\n"
     ]
    },
    {
     "data": {
      "text/html": [
       "<div>\n",
       "<style scoped>\n",
       "    .dataframe tbody tr th:only-of-type {\n",
       "        vertical-align: middle;\n",
       "    }\n",
       "\n",
       "    .dataframe tbody tr th {\n",
       "        vertical-align: top;\n",
       "    }\n",
       "\n",
       "    .dataframe thead th {\n",
       "        text-align: right;\n",
       "    }\n",
       "</style>\n",
       "<table border=\"1\" class=\"dataframe\">\n",
       "  <thead>\n",
       "    <tr style=\"text-align: right;\">\n",
       "      <th></th>\n",
       "      <th>title</th>\n",
       "    </tr>\n",
       "  </thead>\n",
       "  <tbody>\n",
       "    <tr>\n",
       "      <th>1</th>\n",
       "      <td>The Secret Garden</td>\n",
       "    </tr>\n",
       "    <tr>\n",
       "      <th>2</th>\n",
       "      <td>Your Next Breath (Catherine Ling, #4)</td>\n",
       "    </tr>\n",
       "    <tr>\n",
       "      <th>3</th>\n",
       "      <td>The Confessions of Catherine de Medici</td>\n",
       "    </tr>\n",
       "    <tr>\n",
       "      <th>4</th>\n",
       "      <td>Becoming Jane Eyre</td>\n",
       "    </tr>\n",
       "    <tr>\n",
       "      <th>5</th>\n",
       "      <td>Knight of Desire (All the King's Men #1)</td>\n",
       "    </tr>\n",
       "  </tbody>\n",
       "</table>\n",
       "</div>"
      ],
      "text/plain": [
       "                                      title\n",
       "1                         The Secret Garden\n",
       "2     Your Next Breath (Catherine Ling, #4)\n",
       "3    The Confessions of Catherine de Medici\n",
       "4                        Becoming Jane Eyre\n",
       "5  Knight of Desire (All the King's Men #1)"
      ]
     },
     "execution_count": 94,
     "metadata": {},
     "output_type": "execute_result"
    }
   ],
   "source": [
    "recommend(item_id=10514736, num=10)[1:6]"
   ]
  },
  {
   "cell_type": "code",
   "execution_count": null,
   "metadata": {},
   "outputs": [],
   "source": []
  }
 ],
 "metadata": {
  "kernelspec": {
   "display_name": "Python 3",
   "language": "python",
   "name": "python3"
  },
  "language_info": {
   "codemirror_mode": {
    "name": "ipython",
    "version": 3
   },
   "file_extension": ".py",
   "mimetype": "text/x-python",
   "name": "python",
   "nbconvert_exporter": "python",
   "pygments_lexer": "ipython3",
   "version": "3.7.3"
  }
 },
 "nbformat": 4,
 "nbformat_minor": 2
}
